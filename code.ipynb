{
 "cells": [
  {
   "cell_type": "markdown",
   "metadata": {},
   "source": [
    "# Optimization Final Project Analysis and Modeling"
   ]
  },
  {
   "cell_type": "markdown",
   "metadata": {},
   "source": [
    "### Authors:\n",
    "<b>Tal Waitzenberg</b> 305578189 <br />\n",
    "<b>Aviram Hadad</b> (add ID Number)"
   ]
  },
  {
   "cell_type": "markdown",
   "metadata": {},
   "source": [
    "### Problem"
   ]
  },
  {
   "cell_type": "markdown",
   "metadata": {},
   "source": [
    "In this project we are facing with the real estate invesments problem in Israel. In israel today there is a variety of people who looking for invest their money in real estate assets. each one of them as a different budget and interests, some of them looking for exists deals (buy in a lower price then market price and immediately sale in market price or higher) or long term invesments and earn from renting the asset. The question that arises is where is the best location and which kind of asset to buy (asset characteristics)?"
   ]
  },
  {
   "cell_type": "markdown",
   "metadata": {},
   "source": [
    "### Our Approach"
   ]
  },
  {
   "cell_type": "markdown",
   "metadata": {},
   "source": [
    "After examining several existing academic studies, we developed an approach that believes that Israel has more than one market. Each region/city is divided into several different markets that determined according to the apartment price. \n",
    "* how a market is defined?\n",
    "each market is defined according to apratment characteristics, that can be devided to 2 main categories: <br />\n",
    "<b>1)</b> numeric features - like apartment size, number of rooms, price <br />\n",
    "<b>2)</b> categorical features - like if the apratment includes <br />\n",
    "\n",
    "After spliting the data into markets we want to understand how a price is determined. The price of apartment is determned according to 2 categories: <br />\n",
    "* house quality characteristics - Variables characterizing the quality of the house, including number of rooms, net house size, house type and house age (The price ration of 2 different apratments will be the change of the quality characteristics between the apratments).\n",
    "* Environmental characteristics – Variables characterizing the environmental quality of the house, including the socioeconomic level of the area's residents, the proximity to employment centers etc.\n",
    "\n",
    "\n",
    "We wants to estimate the apartment price according to these categoties and use hedonic regression method which\n",
    "enables estimating the effect of each unit of a characteristic on the apartment total price.\n",
    "\n",
    "<br />\n",
    "In this notebook we are going to implements this 2 approaches we descrive above (markets, hedonic regression)\n",
    "in offer at the end a good markets for future investment."
   ]
  },
  {
   "cell_type": "code",
   "execution_count": 143,
   "metadata": {},
   "outputs": [],
   "source": [
    "import numpy as np\n",
    "import pandas as pd\n",
    "from sklearn.cluster import KMeans\n",
    "from scipy.spatial import distance\n",
    "import matplotlib.pyplot as plt\n",
    "from sklearn.decomposition import PCA\n",
    "from sklearn.manifold import TSNE\n",
    "from mpl_toolkits.mplot3d import Axes3D\n",
    "import itertools as iter\n",
    "import locale"
   ]
  },
  {
   "cell_type": "markdown",
   "metadata": {},
   "source": [
    "Reads Kiryat-Ono apartments history selling data"
   ]
  },
  {
   "cell_type": "code",
   "execution_count": 41,
   "metadata": {},
   "outputs": [
    {
     "data": {
      "text/plain": [
       "(1730, 10)"
      ]
     },
     "execution_count": 41,
     "metadata": {},
     "output_type": "execute_result"
    }
   ],
   "source": [
    "data = pd.read_csv(\"./kiryat_ono_data.csv\")\n",
    "data.shape"
   ]
  },
  {
   "cell_type": "code",
   "execution_count": 42,
   "metadata": {},
   "outputs": [
    {
     "data": {
      "text/plain": [
       "geo_id                object\n",
       "sale_date             object\n",
       "acutal_sale_price     object\n",
       "sale_value            object\n",
       "essence               object\n",
       "sale_percentage      float64\n",
       "city                  object\n",
       "construction_year      int64\n",
       "square_meters          int64\n",
       "n_rooms              float64\n",
       "dtype: object"
      ]
     },
     "execution_count": 42,
     "metadata": {},
     "output_type": "execute_result"
    }
   ],
   "source": [
    "data.dtypes"
   ]
  },
  {
   "cell_type": "code",
   "execution_count": 43,
   "metadata": {},
   "outputs": [
    {
     "data": {
      "text/html": [
       "<div>\n",
       "<style scoped>\n",
       "    .dataframe tbody tr th:only-of-type {\n",
       "        vertical-align: middle;\n",
       "    }\n",
       "\n",
       "    .dataframe tbody tr th {\n",
       "        vertical-align: top;\n",
       "    }\n",
       "\n",
       "    .dataframe thead th {\n",
       "        text-align: right;\n",
       "    }\n",
       "</style>\n",
       "<table border=\"1\" class=\"dataframe\">\n",
       "  <thead>\n",
       "    <tr style=\"text-align: right;\">\n",
       "      <th></th>\n",
       "      <th>geo_id</th>\n",
       "      <th>sale_date</th>\n",
       "      <th>acutal_sale_price</th>\n",
       "      <th>sale_value</th>\n",
       "      <th>essence</th>\n",
       "      <th>sale_percentage</th>\n",
       "      <th>city</th>\n",
       "      <th>construction_year</th>\n",
       "      <th>square_meters</th>\n",
       "      <th>n_rooms</th>\n",
       "    </tr>\n",
       "  </thead>\n",
       "  <tbody>\n",
       "    <tr>\n",
       "      <th>0</th>\n",
       "      <td>006495-0231-000-00</td>\n",
       "      <td>2018-01-23</td>\n",
       "      <td>3,650,000</td>\n",
       "      <td>3,650,000</td>\n",
       "      <td>cottage tori</td>\n",
       "      <td>1.000</td>\n",
       "      <td>kiryat ono</td>\n",
       "      <td>2011</td>\n",
       "      <td>284</td>\n",
       "      <td>8.0</td>\n",
       "    </tr>\n",
       "    <tr>\n",
       "      <th>1</th>\n",
       "      <td>006495-0335-000-00</td>\n",
       "      <td>2018-05-03</td>\n",
       "      <td>3,575,000</td>\n",
       "      <td>3,575,000</td>\n",
       "      <td>cottage tori</td>\n",
       "      <td>0.374</td>\n",
       "      <td>kiryat ono</td>\n",
       "      <td>1990</td>\n",
       "      <td>240</td>\n",
       "      <td>5.0</td>\n",
       "    </tr>\n",
       "    <tr>\n",
       "      <th>2</th>\n",
       "      <td>006491-0106-001-00</td>\n",
       "      <td>2017-10-25</td>\n",
       "      <td>854,560</td>\n",
       "      <td>854,560</td>\n",
       "      <td>cottage single family</td>\n",
       "      <td>0.200</td>\n",
       "      <td>kiryat ono</td>\n",
       "      <td>0</td>\n",
       "      <td>0</td>\n",
       "      <td>0.0</td>\n",
       "    </tr>\n",
       "    <tr>\n",
       "      <th>3</th>\n",
       "      <td>006492-0137-000-00</td>\n",
       "      <td>2019-03-11</td>\n",
       "      <td>1,500,000</td>\n",
       "      <td>948,000</td>\n",
       "      <td>cottage single family</td>\n",
       "      <td>0.250</td>\n",
       "      <td>kiryat ono</td>\n",
       "      <td>0</td>\n",
       "      <td>0</td>\n",
       "      <td>0.0</td>\n",
       "    </tr>\n",
       "    <tr>\n",
       "      <th>4</th>\n",
       "      <td>006492-0196-000-00</td>\n",
       "      <td>2019-07-22</td>\n",
       "      <td>566,667</td>\n",
       "      <td>566,667</td>\n",
       "      <td>cottage single family</td>\n",
       "      <td>0.083</td>\n",
       "      <td>kiryat ono</td>\n",
       "      <td>0</td>\n",
       "      <td>0</td>\n",
       "      <td>0.0</td>\n",
       "    </tr>\n",
       "  </tbody>\n",
       "</table>\n",
       "</div>"
      ],
      "text/plain": [
       "               geo_id   sale_date acutal_sale_price sale_value  \\\n",
       "0  006495-0231-000-00  2018-01-23         3,650,000  3,650,000   \n",
       "1  006495-0335-000-00  2018-05-03         3,575,000  3,575,000   \n",
       "2  006491-0106-001-00  2017-10-25           854,560    854,560   \n",
       "3  006492-0137-000-00  2019-03-11         1,500,000    948,000   \n",
       "4  006492-0196-000-00  2019-07-22           566,667    566,667   \n",
       "\n",
       "                 essence  sale_percentage        city  construction_year  \\\n",
       "0           cottage tori            1.000  kiryat ono               2011   \n",
       "1           cottage tori            0.374  kiryat ono               1990   \n",
       "2  cottage single family            0.200  kiryat ono                  0   \n",
       "3  cottage single family            0.250  kiryat ono                  0   \n",
       "4  cottage single family            0.083  kiryat ono                  0   \n",
       "\n",
       "   square_meters  n_rooms  \n",
       "0            284      8.0  \n",
       "1            240      5.0  \n",
       "2              0      0.0  \n",
       "3              0      0.0  \n",
       "4              0      0.0  "
      ]
     },
     "execution_count": 43,
     "metadata": {},
     "output_type": "execute_result"
    }
   ],
   "source": [
    "data.head(5)"
   ]
  },
  {
   "cell_type": "markdown",
   "metadata": {},
   "source": [
    "Checking for emptay or invalid data"
   ]
  },
  {
   "cell_type": "code",
   "execution_count": 44,
   "metadata": {},
   "outputs": [
    {
     "data": {
      "text/plain": [
       "geo_id               0\n",
       "sale_date            0\n",
       "acutal_sale_price    0\n",
       "sale_value           0\n",
       "essence              0\n",
       "sale_percentage      0\n",
       "city                 0\n",
       "construction_year    0\n",
       "square_meters        0\n",
       "n_rooms              0\n",
       "dtype: int64"
      ]
     },
     "execution_count": 44,
     "metadata": {},
     "output_type": "execute_result"
    }
   ],
   "source": [
    "# check for data sparse precentage \n",
    "data.isnull().sum()"
   ]
  },
  {
   "cell_type": "markdown",
   "metadata": {},
   "source": [
    "There is no empty cells, lets check for zeros"
   ]
  },
  {
   "cell_type": "code",
   "execution_count": 45,
   "metadata": {},
   "outputs": [
    {
     "data": {
      "text/plain": [
       "geo_id                0\n",
       "sale_date             0\n",
       "acutal_sale_price     0\n",
       "sale_value            0\n",
       "essence               0\n",
       "sale_percentage       0\n",
       "city                  0\n",
       "construction_year    51\n",
       "square_meters        50\n",
       "n_rooms              51\n",
       "dtype: int64"
      ]
     },
     "execution_count": 45,
     "metadata": {},
     "output_type": "execute_result"
    }
   ],
   "source": [
    "(data == 0).sum()"
   ]
  },
  {
   "cell_type": "markdown",
   "metadata": {},
   "source": [
    "We can see there is a few zeros in 'construction_year', 'square_meters' and 'n_rooms'. its not much so we will delete the rows"
   ]
  },
  {
   "cell_type": "code",
   "execution_count": 46,
   "metadata": {},
   "outputs": [
    {
     "data": {
      "text/plain": [
       "(1679, 10)"
      ]
     },
     "execution_count": 46,
     "metadata": {},
     "output_type": "execute_result"
    }
   ],
   "source": [
    "data = data[~(data.T == 0).any()]\n",
    "data.shape"
   ]
  },
  {
   "cell_type": "markdown",
   "metadata": {},
   "source": [
    "Convert 'actual_sale_price', 'sale_value' to ints"
   ]
  },
  {
   "cell_type": "code",
   "execution_count": 47,
   "metadata": {},
   "outputs": [
    {
     "data": {
      "text/plain": [
       "geo_id                object\n",
       "sale_date             object\n",
       "acutal_sale_price      int64\n",
       "sale_value             int64\n",
       "essence               object\n",
       "sale_percentage      float64\n",
       "city                  object\n",
       "construction_year      int64\n",
       "square_meters          int64\n",
       "n_rooms              float64\n",
       "dtype: object"
      ]
     },
     "execution_count": 47,
     "metadata": {},
     "output_type": "execute_result"
    }
   ],
   "source": [
    "locale.setlocale( locale.LC_ALL, 'en_US.UTF-8' )\n",
    "data['acutal_sale_price'] = data['acutal_sale_price'].apply(lambda x: locale.atoi(x))\n",
    "data['sale_value'] = data['sale_value'].apply(lambda x: locale.atoi(x))\n",
    "data.dtypes"
   ]
  },
  {
   "cell_type": "markdown",
   "metadata": {},
   "source": [
    "### Clustering"
   ]
  },
  {
   "cell_type": "markdown",
   "metadata": {},
   "source": [
    "clustring optimization implemntation goes here"
   ]
  },
  {
   "cell_type": "markdown",
   "metadata": {},
   "source": [
    "We want to use our data for clustering. we need to convert all our features to numeric representation. the 'essence' feature which explain the kund of the aparatment is categorical feature and we going to use one hot encoder to represent this feature in a multiple binary features. we going to do the same for 'construction_year'."
   ]
  },
  {
   "cell_type": "code",
   "execution_count": 72,
   "metadata": {},
   "outputs": [
    {
     "data": {
      "text/html": [
       "<div>\n",
       "<style scoped>\n",
       "    .dataframe tbody tr th:only-of-type {\n",
       "        vertical-align: middle;\n",
       "    }\n",
       "\n",
       "    .dataframe tbody tr th {\n",
       "        vertical-align: top;\n",
       "    }\n",
       "\n",
       "    .dataframe thead th {\n",
       "        text-align: right;\n",
       "    }\n",
       "</style>\n",
       "<table border=\"1\" class=\"dataframe\">\n",
       "  <thead>\n",
       "    <tr style=\"text-align: right;\">\n",
       "      <th></th>\n",
       "      <th>acutal_sale_price</th>\n",
       "      <th>sale_value</th>\n",
       "      <th>sale_percentage</th>\n",
       "      <th>square_meters</th>\n",
       "      <th>n_rooms</th>\n",
       "      <th>1940</th>\n",
       "      <th>1950</th>\n",
       "      <th>1954</th>\n",
       "      <th>1960</th>\n",
       "      <th>1961</th>\n",
       "      <th>...</th>\n",
       "      <th>2021</th>\n",
       "      <th>2022</th>\n",
       "      <th>building apartment</th>\n",
       "      <th>cottage single family</th>\n",
       "      <th>cottage tori</th>\n",
       "      <th>cottage townhouse</th>\n",
       "      <th>garden apratment</th>\n",
       "      <th>roof apartment</th>\n",
       "      <th>single house</th>\n",
       "      <th>vacation apartment</th>\n",
       "    </tr>\n",
       "    <tr>\n",
       "      <th>geo_id</th>\n",
       "      <th></th>\n",
       "      <th></th>\n",
       "      <th></th>\n",
       "      <th></th>\n",
       "      <th></th>\n",
       "      <th></th>\n",
       "      <th></th>\n",
       "      <th></th>\n",
       "      <th></th>\n",
       "      <th></th>\n",
       "      <th></th>\n",
       "      <th></th>\n",
       "      <th></th>\n",
       "      <th></th>\n",
       "      <th></th>\n",
       "      <th></th>\n",
       "      <th></th>\n",
       "      <th></th>\n",
       "      <th></th>\n",
       "      <th></th>\n",
       "      <th></th>\n",
       "    </tr>\n",
       "  </thead>\n",
       "  <tbody>\n",
       "    <tr>\n",
       "      <th>006495-0231-000-00</th>\n",
       "      <td>3650000</td>\n",
       "      <td>3650000</td>\n",
       "      <td>1.000</td>\n",
       "      <td>284</td>\n",
       "      <td>8.0</td>\n",
       "      <td>0</td>\n",
       "      <td>0</td>\n",
       "      <td>0</td>\n",
       "      <td>0</td>\n",
       "      <td>0</td>\n",
       "      <td>...</td>\n",
       "      <td>0</td>\n",
       "      <td>0</td>\n",
       "      <td>0</td>\n",
       "      <td>0</td>\n",
       "      <td>1</td>\n",
       "      <td>0</td>\n",
       "      <td>0</td>\n",
       "      <td>0</td>\n",
       "      <td>0</td>\n",
       "      <td>0</td>\n",
       "    </tr>\n",
       "    <tr>\n",
       "      <th>006495-0335-000-00</th>\n",
       "      <td>3575000</td>\n",
       "      <td>3575000</td>\n",
       "      <td>0.374</td>\n",
       "      <td>240</td>\n",
       "      <td>5.0</td>\n",
       "      <td>0</td>\n",
       "      <td>0</td>\n",
       "      <td>0</td>\n",
       "      <td>0</td>\n",
       "      <td>0</td>\n",
       "      <td>...</td>\n",
       "      <td>0</td>\n",
       "      <td>0</td>\n",
       "      <td>0</td>\n",
       "      <td>0</td>\n",
       "      <td>1</td>\n",
       "      <td>0</td>\n",
       "      <td>0</td>\n",
       "      <td>0</td>\n",
       "      <td>0</td>\n",
       "      <td>0</td>\n",
       "    </tr>\n",
       "    <tr>\n",
       "      <th>006492-0262-000-00</th>\n",
       "      <td>1360000</td>\n",
       "      <td>1360000</td>\n",
       "      <td>0.333</td>\n",
       "      <td>145</td>\n",
       "      <td>6.0</td>\n",
       "      <td>0</td>\n",
       "      <td>0</td>\n",
       "      <td>0</td>\n",
       "      <td>0</td>\n",
       "      <td>0</td>\n",
       "      <td>...</td>\n",
       "      <td>0</td>\n",
       "      <td>0</td>\n",
       "      <td>0</td>\n",
       "      <td>1</td>\n",
       "      <td>0</td>\n",
       "      <td>0</td>\n",
       "      <td>0</td>\n",
       "      <td>0</td>\n",
       "      <td>0</td>\n",
       "      <td>0</td>\n",
       "    </tr>\n",
       "    <tr>\n",
       "      <th>006493-0113-000-00</th>\n",
       "      <td>5150000</td>\n",
       "      <td>5150000</td>\n",
       "      <td>1.000</td>\n",
       "      <td>350</td>\n",
       "      <td>8.0</td>\n",
       "      <td>0</td>\n",
       "      <td>0</td>\n",
       "      <td>0</td>\n",
       "      <td>0</td>\n",
       "      <td>0</td>\n",
       "      <td>...</td>\n",
       "      <td>0</td>\n",
       "      <td>0</td>\n",
       "      <td>0</td>\n",
       "      <td>1</td>\n",
       "      <td>0</td>\n",
       "      <td>0</td>\n",
       "      <td>0</td>\n",
       "      <td>0</td>\n",
       "      <td>0</td>\n",
       "      <td>0</td>\n",
       "    </tr>\n",
       "    <tr>\n",
       "      <th>006493-0254-000-00</th>\n",
       "      <td>1542500</td>\n",
       "      <td>1542500</td>\n",
       "      <td>0.250</td>\n",
       "      <td>343</td>\n",
       "      <td>6.0</td>\n",
       "      <td>0</td>\n",
       "      <td>0</td>\n",
       "      <td>0</td>\n",
       "      <td>0</td>\n",
       "      <td>0</td>\n",
       "      <td>...</td>\n",
       "      <td>0</td>\n",
       "      <td>0</td>\n",
       "      <td>0</td>\n",
       "      <td>1</td>\n",
       "      <td>0</td>\n",
       "      <td>0</td>\n",
       "      <td>0</td>\n",
       "      <td>0</td>\n",
       "      <td>0</td>\n",
       "      <td>0</td>\n",
       "    </tr>\n",
       "  </tbody>\n",
       "</table>\n",
       "<p>5 rows × 69 columns</p>\n",
       "</div>"
      ],
      "text/plain": [
       "                    acutal_sale_price  sale_value  sale_percentage  \\\n",
       "geo_id                                                               \n",
       "006495-0231-000-00            3650000     3650000            1.000   \n",
       "006495-0335-000-00            3575000     3575000            0.374   \n",
       "006492-0262-000-00            1360000     1360000            0.333   \n",
       "006493-0113-000-00            5150000     5150000            1.000   \n",
       "006493-0254-000-00            1542500     1542500            0.250   \n",
       "\n",
       "                    square_meters  n_rooms  1940  1950  1954  1960  1961  ...  \\\n",
       "geo_id                                                                    ...   \n",
       "006495-0231-000-00            284      8.0     0     0     0     0     0  ...   \n",
       "006495-0335-000-00            240      5.0     0     0     0     0     0  ...   \n",
       "006492-0262-000-00            145      6.0     0     0     0     0     0  ...   \n",
       "006493-0113-000-00            350      8.0     0     0     0     0     0  ...   \n",
       "006493-0254-000-00            343      6.0     0     0     0     0     0  ...   \n",
       "\n",
       "                    2021  2022  building apartment  cottage single family  \\\n",
       "geo_id                                                                      \n",
       "006495-0231-000-00     0     0                   0                      0   \n",
       "006495-0335-000-00     0     0                   0                      0   \n",
       "006492-0262-000-00     0     0                   0                      1   \n",
       "006493-0113-000-00     0     0                   0                      1   \n",
       "006493-0254-000-00     0     0                   0                      1   \n",
       "\n",
       "                    cottage tori  cottage townhouse  garden apratment  \\\n",
       "geo_id                                                                  \n",
       "006495-0231-000-00             1                  0                 0   \n",
       "006495-0335-000-00             1                  0                 0   \n",
       "006492-0262-000-00             0                  0                 0   \n",
       "006493-0113-000-00             0                  0                 0   \n",
       "006493-0254-000-00             0                  0                 0   \n",
       "\n",
       "                    roof apartment  single house  vacation apartment  \n",
       "geo_id                                                                \n",
       "006495-0231-000-00               0             0                   0  \n",
       "006495-0335-000-00               0             0                   0  \n",
       "006492-0262-000-00               0             0                   0  \n",
       "006493-0113-000-00               0             0                   0  \n",
       "006493-0254-000-00               0             0                   0  \n",
       "\n",
       "[5 rows x 69 columns]"
      ]
     },
     "execution_count": 72,
     "metadata": {},
     "output_type": "execute_result"
    }
   ],
   "source": [
    "clustering_data = data.copy()\n",
    "clustering_data = clustering_data.drop('sale_date', axis=1)\n",
    "clustering_data = clustering_data.drop('city', axis=1)\n",
    "essence_dummies = pd.get_dummies(data['essence'])\n",
    "construction_year_dummies = pd.get_dummies(data['construction_year'])\n",
    "clustering_data = clustering_data.drop('essence', axis=1)\n",
    "clustering_data = clustering_data.drop('construction_year', axis=1)\n",
    "clustering_data = pd.concat([clustering_data, construction_year_dummies, essence_dummies], axis=1)\n",
    "clustering_data = clustering_data.set_index('geo_id')\n",
    "clustering_data.head(5)"
   ]
  },
  {
   "cell_type": "code",
   "execution_count": 73,
   "metadata": {},
   "outputs": [
    {
     "data": {
      "text/plain": [
       "(1679, 69)"
      ]
     },
     "execution_count": 73,
     "metadata": {},
     "output_type": "execute_result"
    }
   ],
   "source": [
    "clustering_data.shape"
   ]
  },
  {
   "cell_type": "markdown",
   "metadata": {},
   "source": [
    "We got 69 features that we going to use for clustering. We are going to use Kmeans algorithm for clustering and we will use the hartigan metric in order to optimize the number of clusters K."
   ]
  },
  {
   "cell_type": "code",
   "execution_count": 106,
   "metadata": {},
   "outputs": [],
   "source": [
    "def calc_clusters_centroids(data, labels):\n",
    "    '''\n",
    "    calculates clusters centers by mean\n",
    "    :param data: pandas DataFrame, shape(obsevations,features)\n",
    "    :param labels: 1D array\n",
    "    :return: pandas DataFrame, cluster centers\n",
    "    '''\n",
    "    try:\n",
    "        if isinstance(labels, pd.DataFrame):\n",
    "            raise Exception('labels should be 1D array')\n",
    "\n",
    "        if ~isinstance(data, pd.DataFrame):\n",
    "            data = pd.DataFrame(data)\n",
    "\n",
    "        labels = pd.DataFrame(labels, columns=['labels'], index=data.index)\n",
    "        df = pd.concat([data, labels], axis=1)\n",
    "        centers = pd.DataFrame.groupby(df, by='labels', as_index=True).agg('mean')\n",
    "        return centers\n",
    "    except Exception as e:\n",
    "        print(e)\n",
    "        raise e"
   ]
  },
  {
   "cell_type": "code",
   "execution_count": 107,
   "metadata": {},
   "outputs": [],
   "source": [
    "def calc_points_distances(data, labels, centroids):\n",
    "    '''\n",
    "    calc W by the formula:\n",
    "    W = sum((1/2nr)*sum((Xij - Centroid_i_tagj)^2))\n",
    "    nr - number of obsevations in cluster\n",
    "    i - observation\n",
    "    j - feature in observation\n",
    "    :param data: pandas DataFrame\n",
    "    :param labels: cluster estimator labels array\n",
    "    :param centroids: pandas DataFrame\n",
    "    :return: W float\n",
    "    '''\n",
    "\n",
    "    try:\n",
    "\n",
    "        labels_df = pd.DataFrame(labels, columns=['labels'], index=data.index )\n",
    "        data_copy = data.copy()\n",
    "        data_copy = pd.concat([data_copy, labels_df], axis=1)\n",
    "        clusters = pd.DataFrame.groupby(data_copy, by='labels', as_index=True)\n",
    "        W = sum([(sum(map(lambda r: np.power(distance.euclidean(r[:-1], centroids.loc[label]), 2), Cr.values))) for label, Cr in clusters])\n",
    "        return np.log1p(W)\n",
    "    except Exception as e:\n",
    "        print(\"Error:\",e)\n",
    "        raise e"
   ]
  },
  {
   "cell_type": "code",
   "execution_count": 116,
   "metadata": {},
   "outputs": [],
   "source": [
    "def k_hartigan(Wks, n_clusters, n_observations, threshold=10):\n",
    "    '''\n",
    "    Return optimal K (number of clusters) according to Hartigan score\n",
    "    :param Wks: array or list, of Wk mean distances\n",
    "    :param n_clusters: array or list, of K's (number of clusters for each Wk)\n",
    "    :param n_observations: int, number of data n_observations\n",
    "    :param threshold: int, returns K > threshold\n",
    "    :return: int K ot None if none of the K's is optimal (bigger than threshold)\n",
    "    '''\n",
    "\n",
    "    if len(Wks) != len(n_clusters):\n",
    "        raise Exception('Error: Wks length should be equal to n_clusters')\n",
    "\n",
    "    try:\n",
    "        it1, it2 = iter.tee(Wks, 2)\n",
    "        next(it2, None)\n",
    "        optimal_k = -1\n",
    "        for i, (Wk, Wk_plus_1) in enumerate(zip(it1, it2)):\n",
    "            k = n_clusters[i]\n",
    "            H = np.multiply(np.true_divide(Wk, Wk_plus_1) - 1, n_observations - k - 1)\n",
    "            if H < threshold:\n",
    "                optimal_k = k\n",
    "                break\n",
    "\n",
    "        return optimal_k\n",
    "    except Exception as e:\n",
    "        print(e)\n",
    "        raise e"
   ]
  },
  {
   "cell_type": "code",
   "execution_count": 137,
   "metadata": {},
   "outputs": [
    {
     "data": {
      "text/plain": [
       "[35.38304378389106,\n",
       " 34.58724823637448,\n",
       " 34.00455849809491,\n",
       " 33.42625248036128,\n",
       " 33.02285144767892,\n",
       " 32.68621556957974,\n",
       " 32.40583210914367,\n",
       " 32.13641905552471,\n",
       " 31.919792456335127,\n",
       " 31.711561956553965,\n",
       " 31.49045916459803,\n",
       " 31.297828776392617,\n",
       " 31.133341178956343]"
      ]
     },
     "execution_count": 137,
     "metadata": {},
     "output_type": "execute_result"
    }
   ],
   "source": [
    "wks = []\n",
    "kmeans_estimator_prev = KMeans(n_clusters=1, random_state=0)\n",
    "kmeans_estimator_prev.fit(clustering_data.values)\n",
    "labels_prev = kmeans_estimator_prev.labels_\n",
    "centroids_prev = calc_clusters_centroids(clustering_data, labels_prev)\n",
    "wk_prev = calc_points_distances(clustering_data, labels_prev, centroids_prev)\n",
    "wks.append(wk_prev)\n",
    "k=2\n",
    "optimal_k = -1\n",
    "while True:\n",
    "    kmeans_estimator_next = KMeans(n_clusters=k, random_state=0)\n",
    "    kmeans_estimator_next.fit(clustering_data.values)\n",
    "    labels_next = kmeans_estimator_next.labels_\n",
    "    centroids_next = calc_clusters_centroids(clustering_data, labels_next)\n",
    "    wk_next = calc_points_distances(clustering_data, labels_next, centroids_next)\n",
    "    wks.append(wk_next)\n",
    "    is_optimal_k = k_hartigan([wk_prev, wk_next], [k-1,k], clustering_data.shape[0])\n",
    "    \n",
    "    if is_optimal_k > -1:\n",
    "        kmeans_best_estimator = kmeans_estimator_prev\n",
    "        optimal_k = is_optimal_k\n",
    "        break\n",
    "        \n",
    "    k+=1\n",
    "    kmeans_estimator_prev = kmeans_estimator_next\n",
    "    wk_prev = wk_next\n",
    "wks"
   ]
  },
  {
   "cell_type": "code",
   "execution_count": 138,
   "metadata": {},
   "outputs": [
    {
     "data": {
      "text/plain": [
       "Text(0.5, 1.0, \"Wk's plot\")"
      ]
     },
     "execution_count": 138,
     "metadata": {},
     "output_type": "execute_result"
    },
    {
     "data": {
      "image/png": "[encoded data removed]",
      "text/plain": [
       "<Figure size 432x288 with 1 Axes>"
      ]
     },
     "metadata": {
      "needs_background": "light"
     },
     "output_type": "display_data"
    }
   ],
   "source": [
    "fig, ax = plt.subplots()\n",
    "x = list(range(1,optimal_k + 1))\n",
    "y = wks[:-1]\n",
    "ax.scatter(x, y, color='blue')\n",
    "ax.plot(x, y, color='blue', linestyle='solid')\n",
    "ax.set_xticks(np.arange(len(x) + 2))\n",
    "plt.xlabel('cluster')\n",
    "plt.ylabel('Wk')\n",
    "plt.title(\"Wk's plot\")"
   ]
  },
  {
   "cell_type": "code",
   "execution_count": 139,
   "metadata": {},
   "outputs": [],
   "source": [
    "def plot_3d_scatter(data,labels):\n",
    "    fig1 = plt.figure()\n",
    "    ax1 = Axes3D(fig1)\n",
    "    ax1.scatter(data[:,1], data[:,0], data[:,2],c=labels)\n",
    "\n",
    "    fig2 = plt.figure()\n",
    "    ax2 = Axes3D(fig2)\n",
    "    ax2.scatter(data[:,0], data[:,1], data[:,2],c=labels)\n",
    "\n",
    "    plt.show()"
   ]
  },
  {
   "cell_type": "code",
   "execution_count": 145,
   "metadata": {},
   "outputs": [
    {
     "data": {
      "image/png": "[encoded data removed]",
      "text/plain": [
       "<Figure size 432x288 with 1 Axes>"
      ]
     },
     "metadata": {
      "needs_background": "light"
     },
     "output_type": "display_data"
    },
    {
     "data": {
      "image/png": "[encoded data removed]",
      "text/plain": [
       "<Figure size 432x288 with 1 Axes>"
      ]
     },
     "metadata": {
      "needs_background": "light"
     },
     "output_type": "display_data"
    }
   ],
   "source": [
    "# perform PCA for plotting\n",
    "kmeans_pca = PCA(n_components=3)\n",
    "kmeans_pca_data = kmeans_pca.fit_transform(clustering_data)\n",
    "\n",
    "# plot 3D scatter\n",
    "plot_3d_scatter(kmeans_pca_data,kmeans_best_estimator.labels_)"
   ]
  },
  {
   "cell_type": "code",
   "execution_count": null,
   "metadata": {},
   "outputs": [],
   "source": []
  }
 ],
 "metadata": {
  "kernelspec": {
   "display_name": "Python 3",
   "language": "python",
   "name": "python3"
  },
  "language_info": {
   "codemirror_mode": {
    "name": "ipython",
    "version": 3
   },
   "file_extension": ".py",
   "mimetype": "text/x-python",
   "name": "python",
   "nbconvert_exporter": "python",
   "pygments_lexer": "ipython3",
   "version": "3.7.6"
  }
 },
 "nbformat": 4,
 "nbformat_minor": 4
}
